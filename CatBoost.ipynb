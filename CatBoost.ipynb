{
  "nbformat": 4,
  "nbformat_minor": 0,
  "metadata": {
    "colab": {
      "name": "CatBoost.ipynb",
      "version": "0.3.2",
      "provenance": [],
      "collapsed_sections": [],
      "include_colab_link": true
    },
    "kernelspec": {
      "name": "python3",
      "display_name": "Python 3"
    },
    "accelerator": "GPU"
  },
  "cells": [
    {
      "cell_type": "markdown",
      "metadata": {
        "id": "view-in-github",
        "colab_type": "text"
      },
      "source": [
        "<a href=\"https://colab.research.google.com/github/paulgureghian/CatBoost/blob/master/CatBoost.ipynb\" target=\"_parent\"><img src=\"https://colab.research.google.com/assets/colab-badge.svg\" alt=\"Open In Colab\"/></a>"
      ]
    },
    {
      "metadata": {
        "id": "8kahyVmLDU0D",
        "colab_type": "text"
      },
      "cell_type": "markdown",
      "source": [
        "### **Created by Paul A. Gureghian in Mar 2019.**"
      ]
    },
    {
      "metadata": {
        "id": "otB6aVcyB4RV",
        "colab_type": "text"
      },
      "cell_type": "markdown",
      "source": [
        "**This notebook will demonstrate the implementation of GBDT using the 'CatBoost' library.** "
      ]
    },
    {
      "metadata": {
        "id": "73WPNVZ-_rAu",
        "colab_type": "code",
        "colab": {
          "base_uri": "https://localhost:8080/",
          "height": 34
        },
        "outputId": "0b42f0aa-d3c5-440d-8ad3-00bdc4309a0e"
      },
      "cell_type": "code",
      "source": [
        "### Install CatBoost\n",
        "!pip -q install catboost"
      ],
      "execution_count": 1,
      "outputs": [
        {
          "output_type": "stream",
          "text": [
            "\u001b[K    100% |████████████████████████████████| 60.1MB 715kB/s \n",
            "\u001b[?25h"
          ],
          "name": "stdout"
        }
      ]
    },
    {
      "metadata": {
        "id": "_dmKX_oKIb2P",
        "colab_type": "code",
        "colab": {}
      },
      "cell_type": "code",
      "source": [
        "### Import packages\n",
        "import timeit\n",
        "from catboost.datasets import epsilon\n",
        "from catboost import CatBoostClassifier"
      ],
      "execution_count": 0,
      "outputs": []
    },
    {
      "metadata": {
        "id": "SUeDBjFpGy87",
        "colab_type": "text"
      },
      "cell_type": "markdown",
      "source": [
        "### **Prepare dataset.**\n",
        "\n",
        "*   **I will use the 'Epsilon' dataset from CatBoost.** "
      ]
    },
    {
      "metadata": {
        "id": "F4zEXx7dICzm",
        "colab_type": "code",
        "colab": {}
      },
      "cell_type": "code",
      "source": [
        "### Split dataset into 'train' and 'test' sets\n",
        "train, test = epsilon()\n",
        "\n",
        "X_train, y_train = train.iloc[:,1:], train[0]\n",
        "X_test, y_test = train.iloc[:,1:], train[0]"
      ],
      "execution_count": 0,
      "outputs": []
    },
    {
      "metadata": {
        "id": "nDcyPL-_aDsQ",
        "colab_type": "code",
        "colab": {
          "base_uri": "https://localhost:8080/",
          "height": 289
        },
        "outputId": "20102aed-2ec6-4376-ea38-d004d2c67a8a"
      },
      "cell_type": "code",
      "source": [
        "### Define 'train_on_cpu' function\n",
        "def train_on_cpu():  \n",
        "  model = CatBoostClassifier(\n",
        "    iterations=100,\n",
        "    learning_rate=0.03\n",
        "  )\n",
        "  \n",
        "  model.fit(\n",
        "      X_train, y_train,\n",
        "      eval_set=(X_test, y_test),\n",
        "      verbose=10\n",
        "  );   \n",
        "      \n",
        "cpu_time = timeit.timeit('train_on_cpu()', \n",
        "                         setup=\"from __main__ import train_on_cpu\", \n",
        "                         number=1)\n",
        "\n",
        "print('Time to fit model on CPU: {} sec'.format(int(cpu_time)))"
      ],
      "execution_count": 4,
      "outputs": [
        {
          "output_type": "stream",
          "text": [
            "0:\tlearn: 0.6878004\ttest: 0.6878004\tbest: 0.6878004 (0)\ttotal: 8.65s\tremaining: 14m 16s\n",
            "10:\tlearn: 0.6459486\ttest: 0.6459486\tbest: 0.6459486 (10)\ttotal: 1m 32s\tremaining: 12m 24s\n",
            "20:\tlearn: 0.6170315\ttest: 0.6170315\tbest: 0.6170315 (20)\ttotal: 2m 51s\tremaining: 10m 44s\n",
            "30:\tlearn: 0.5947894\ttest: 0.5947894\tbest: 0.5947894 (30)\ttotal: 4m 8s\tremaining: 9m 13s\n",
            "40:\tlearn: 0.5766997\ttest: 0.5766997\tbest: 0.5766997 (40)\ttotal: 5m 26s\tremaining: 7m 50s\n",
            "50:\tlearn: 0.5616803\ttest: 0.5616803\tbest: 0.5616803 (50)\ttotal: 6m 42s\tremaining: 6m 26s\n",
            "60:\tlearn: 0.5485252\ttest: 0.5485252\tbest: 0.5485252 (60)\ttotal: 7m 56s\tremaining: 5m 4s\n",
            "70:\tlearn: 0.5371519\ttest: 0.5371519\tbest: 0.5371519 (70)\ttotal: 9m 11s\tremaining: 3m 45s\n",
            "80:\tlearn: 0.5267357\ttest: 0.5267357\tbest: 0.5267357 (80)\ttotal: 10m 24s\tremaining: 2m 26s\n",
            "90:\tlearn: 0.5175479\ttest: 0.5175479\tbest: 0.5175479 (90)\ttotal: 11m 40s\tremaining: 1m 9s\n",
            "99:\tlearn: 0.5100183\ttest: 0.5100183\tbest: 0.5100183 (99)\ttotal: 12m 50s\tremaining: 0us\n",
            "\n",
            "bestTest = 0.510018322\n",
            "bestIteration = 99\n",
            "\n",
            "Time to fit model on CPU: 1000 sec\n"
          ],
          "name": "stdout"
        }
      ]
    },
    {
      "metadata": {
        "id": "4AxPVxjpfzcK",
        "colab_type": "code",
        "outputId": "0132e121-eca7-49ba-9913-49e2c755dde1",
        "colab": {
          "base_uri": "https://localhost:8080/",
          "height": 272
        }
      },
      "cell_type": "code",
      "source": [
        "train_on_cpu()"
      ],
      "execution_count": 5,
      "outputs": [
        {
          "output_type": "stream",
          "text": [
            "0:\tlearn: 0.6878004\ttest: 0.6878004\tbest: 0.6878004 (0)\ttotal: 8.36s\tremaining: 13m 47s\n",
            "10:\tlearn: 0.6459486\ttest: 0.6459486\tbest: 0.6459486 (10)\ttotal: 1m 32s\tremaining: 12m 26s\n",
            "20:\tlearn: 0.6170315\ttest: 0.6170315\tbest: 0.6170315 (20)\ttotal: 2m 52s\tremaining: 10m 48s\n",
            "30:\tlearn: 0.5947894\ttest: 0.5947894\tbest: 0.5947894 (30)\ttotal: 4m 9s\tremaining: 9m 16s\n",
            "40:\tlearn: 0.5766997\ttest: 0.5766997\tbest: 0.5766997 (40)\ttotal: 5m 27s\tremaining: 7m 51s\n",
            "50:\tlearn: 0.5616803\ttest: 0.5616803\tbest: 0.5616803 (50)\ttotal: 6m 43s\tremaining: 6m 27s\n",
            "60:\tlearn: 0.5485252\ttest: 0.5485252\tbest: 0.5485252 (60)\ttotal: 7m 58s\tremaining: 5m 5s\n",
            "70:\tlearn: 0.5371519\ttest: 0.5371519\tbest: 0.5371519 (70)\ttotal: 9m 13s\tremaining: 3m 46s\n",
            "80:\tlearn: 0.5267357\ttest: 0.5267357\tbest: 0.5267357 (80)\ttotal: 10m 27s\tremaining: 2m 27s\n",
            "90:\tlearn: 0.5175479\ttest: 0.5175479\tbest: 0.5175479 (90)\ttotal: 11m 43s\tremaining: 1m 9s\n",
            "99:\tlearn: 0.5100183\ttest: 0.5100183\tbest: 0.5100183 (99)\ttotal: 12m 53s\tremaining: 0us\n",
            "\n",
            "bestTest = 0.510018322\n",
            "bestIteration = 99\n",
            "\n"
          ],
          "name": "stdout"
        }
      ]
    }
  ]
}