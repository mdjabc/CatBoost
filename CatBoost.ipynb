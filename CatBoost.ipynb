{
  "nbformat": 4,
  "nbformat_minor": 0,
  "metadata": {
    "colab": {
      "name": "CatBoost.ipynb",
      "version": "0.3.2",
      "provenance": [],
      "collapsed_sections": [],
      "include_colab_link": true
    },
    "kernelspec": {
      "name": "python3",
      "display_name": "Python 3"
    },
    "accelerator": "GPU"
  },
  "cells": [
    {
      "cell_type": "markdown",
      "metadata": {
        "id": "view-in-github",
        "colab_type": "text"
      },
      "source": [
        "<a href=\"https://colab.research.google.com/github/paulgureghian/CatBoost/blob/master/CatBoost.ipynb\" target=\"_parent\"><img src=\"https://colab.research.google.com/assets/colab-badge.svg\" alt=\"Open In Colab\"/></a>"
      ]
    },
    {
      "metadata": {
        "id": "8kahyVmLDU0D",
        "colab_type": "text"
      },
      "cell_type": "markdown",
      "source": [
        "### **Created by Paul A. Gureghian in Mar 2019.**"
      ]
    },
    {
      "metadata": {
        "id": "otB6aVcyB4RV",
        "colab_type": "text"
      },
      "cell_type": "markdown",
      "source": [
        "**This notebook will demonstrate the implementation of GBDT using the 'CatBoost' gradient boosting library.** "
      ]
    },
    {
      "metadata": {
        "id": "73WPNVZ-_rAu",
        "colab_type": "code",
        "colab": {}
      },
      "cell_type": "code",
      "source": [
        "### Install CatBoost\n",
        "!pip -q install catboost"
      ],
      "execution_count": 0,
      "outputs": []
    },
    {
      "metadata": {
        "id": "_dmKX_oKIb2P",
        "colab_type": "code",
        "colab": {}
      },
      "cell_type": "code",
      "source": [
        "### Import packages\n",
        "import timeit\n",
        "from catboost.datasets import epsilon\n",
        "from catboost import CatBoostClassifier"
      ],
      "execution_count": 0,
      "outputs": []
    },
    {
      "metadata": {
        "id": "SUeDBjFpGy87",
        "colab_type": "text"
      },
      "cell_type": "markdown",
      "source": [
        "### **Prepare dataset.**\n",
        "\n",
        "*   **I will use the 'Epsilon' dataset from CatBoost.** "
      ]
    },
    {
      "metadata": {
        "id": "F4zEXx7dICzm",
        "colab_type": "code",
        "colab": {}
      },
      "cell_type": "code",
      "source": [
        "### Split dataset into 'train' and 'test' sets\n",
        "train, test = epsilon()\n",
        "\n",
        "X_train, y_train = train.iloc[:,1:], train[0]\n",
        "X_test, y_test = test.iloc[:,1:], test[0]"
      ],
      "execution_count": 0,
      "outputs": []
    },
    {
      "metadata": {
        "id": "nDcyPL-_aDsQ",
        "colab_type": "code",
        "outputId": "072d4740-9579-42ab-ed6e-947c9d0d3ce0",
        "colab": {
          "base_uri": "https://localhost:8080/",
          "height": 289
        }
      },
      "cell_type": "code",
      "source": [
        "### Define 'train_on_cpu' function\n",
        "def train_on_cpu():  \n",
        "  model = CatBoostClassifier(iterations=100, learning_rate=0.03)\n",
        "  \n",
        "  model.fit( X_train, y_train, eval_set=(X_test, y_test), verbose=10)    \n",
        "      \n",
        "cpu_time = timeit.timeit('train_on_cpu()', setup=\"from __main__ import train_on_cpu\", number=1)\n",
        "                                         \n",
        "print('Time to fit model on CPU: {} sec'.format(int(cpu_time)))"
      ],
      "execution_count": 0,
      "outputs": [
        {
          "output_type": "stream",
          "text": [
            "0:\tlearn: 0.6878004\ttest: 0.6878645\tbest: 0.6878645 (0)\ttotal: 8.02s\tremaining: 13m 14s\n",
            "10:\tlearn: 0.6459486\ttest: 0.6467108\tbest: 0.6467108 (10)\ttotal: 1m 29s\tremaining: 12m 4s\n",
            "20:\tlearn: 0.6170315\ttest: 0.6180805\tbest: 0.6180805 (20)\ttotal: 2m 45s\tremaining: 10m 23s\n",
            "30:\tlearn: 0.5947894\ttest: 0.5960342\tbest: 0.5960342 (30)\ttotal: 4m 1s\tremaining: 8m 56s\n",
            "40:\tlearn: 0.5766997\ttest: 0.5780390\tbest: 0.5780390 (40)\ttotal: 5m 19s\tremaining: 7m 40s\n",
            "50:\tlearn: 0.5616803\ttest: 0.5631138\tbest: 0.5631138 (50)\ttotal: 6m 32s\tremaining: 6m 17s\n",
            "60:\tlearn: 0.5485252\ttest: 0.5499754\tbest: 0.5499754 (60)\ttotal: 7m 46s\tremaining: 4m 57s\n",
            "70:\tlearn: 0.5371519\ttest: 0.5385685\tbest: 0.5385685 (70)\ttotal: 8m 58s\tremaining: 3m 40s\n",
            "80:\tlearn: 0.5267357\ttest: 0.5282210\tbest: 0.5282210 (80)\ttotal: 10m 9s\tremaining: 2m 22s\n",
            "90:\tlearn: 0.5175479\ttest: 0.5190800\tbest: 0.5190800 (90)\ttotal: 11m 24s\tremaining: 1m 7s\n",
            "99:\tlearn: 0.5100183\ttest: 0.5116455\tbest: 0.5116455 (99)\ttotal: 12m 30s\tremaining: 0us\n",
            "\n",
            "bestTest = 0.5116455212\n",
            "bestIteration = 99\n",
            "\n",
            "Time to fit model on CPU: 902 sec\n"
          ],
          "name": "stdout"
        }
      ]
    },
    {
      "metadata": {
        "id": "4AxPVxjpfzcK",
        "colab_type": "code",
        "outputId": "59f08eb3-f56c-49e3-86ca-05822869e425",
        "colab": {
          "base_uri": "https://localhost:8080/",
          "height": 272
        }
      },
      "cell_type": "code",
      "source": [
        "### Define 'train_on_gpu' function\n",
        "def train_on_gpu():\n",
        "  model = CatBoostClassifier(iterations =100, learning_rate = 0.03, task_type ='GPU')\n",
        "  \n",
        "  model.fit(X_train, y_train, eval_set =(X_test, y_test), verbose =10)\n",
        "  \n",
        "gpu_time = timeit.timeit('train_on_gpu()', setup =\"from __main__ import train_on_gpu\", number =1)\n",
        "\n",
        "print('Time to fit model on GPU: {} sec'.format(int(gpu_time)))\n",
        "\n",
        "print('GPU speedup over CPU: ' + '%.2f' % (cpu_time / gpu_time) + 'x') "
      ],
      "execution_count": 0,
      "outputs": [
        {
          "output_type": "stream",
          "text": [
            "0:\tlearn: 0.6877673\ttest: 0.6878639\tbest: 0.6878639 (0)\ttotal: 299ms\tremaining: 29.6s\n",
            "10:\tlearn: 0.6457424\ttest: 0.6464577\tbest: 0.6464577 (10)\ttotal: 2.51s\tremaining: 20.3s\n",
            "20:\tlearn: 0.6163269\ttest: 0.6174577\tbest: 0.6174577 (20)\ttotal: 4.62s\tremaining: 17.4s\n",
            "30:\tlearn: 0.5943042\ttest: 0.5956971\tbest: 0.5956971 (30)\ttotal: 6.64s\tremaining: 14.8s\n",
            "40:\tlearn: 0.5763306\ttest: 0.5778136\tbest: 0.5778136 (40)\ttotal: 8.63s\tremaining: 12.4s\n",
            "50:\tlearn: 0.5607695\ttest: 0.5623932\tbest: 0.5623932 (50)\ttotal: 10.6s\tremaining: 10.2s\n",
            "60:\tlearn: 0.5478189\ttest: 0.5495073\tbest: 0.5495073 (60)\ttotal: 12.6s\tremaining: 8.06s\n",
            "70:\tlearn: 0.5360006\ttest: 0.5377420\tbest: 0.5377420 (70)\ttotal: 14.5s\tremaining: 5.93s\n",
            "80:\tlearn: 0.5258040\ttest: 0.5275750\tbest: 0.5275750 (80)\ttotal: 16.5s\tremaining: 3.87s\n",
            "90:\tlearn: 0.5165431\ttest: 0.5183841\tbest: 0.5183841 (90)\ttotal: 18.5s\tremaining: 1.83s\n",
            "99:\tlearn: 0.5089638\ttest: 0.5108693\tbest: 0.5108693 (99)\ttotal: 20.2s\tremaining: 0us\n",
            "bestTest = 0.5108692578\n",
            "bestIteration = 99\n",
            "Time to fit model on GPU: 143 sec\n",
            "GPU speedup over CPU: 6.29x\n"
          ],
          "name": "stdout"
        }
      ]
    }
  ]
}