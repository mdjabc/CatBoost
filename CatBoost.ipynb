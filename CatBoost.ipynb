{
  "nbformat": 4,
  "nbformat_minor": 0,
  "metadata": {
    "colab": {
      "name": "CatBoost.ipynb",
      "version": "0.3.2",
      "provenance": [],
      "collapsed_sections": [],
      "include_colab_link": true
    },
    "kernelspec": {
      "name": "python3",
      "display_name": "Python 3"
    },
    "accelerator": "GPU"
  },
  "cells": [
    {
      "cell_type": "markdown",
      "metadata": {
        "id": "view-in-github",
        "colab_type": "text"
      },
      "source": [
        "<a href=\"https://colab.research.google.com/github/paulgureghian/CatBoost/blob/master/CatBoost.ipynb\" target=\"_parent\"><img src=\"https://colab.research.google.com/assets/colab-badge.svg\" alt=\"Open In Colab\"/></a>"
      ]
    },
    {
      "metadata": {
        "id": "8kahyVmLDU0D",
        "colab_type": "text"
      },
      "cell_type": "markdown",
      "source": [
        "### **Created by Paul A. Gureghian in Mar 2019.**"
      ]
    },
    {
      "metadata": {
        "id": "otB6aVcyB4RV",
        "colab_type": "text"
      },
      "cell_type": "markdown",
      "source": [
        "**This notebook will demonstrate the implementation of GBDT using the 'CatBoost' library.** "
      ]
    },
    {
      "metadata": {
        "id": "73WPNVZ-_rAu",
        "colab_type": "code",
        "colab": {
          "base_uri": "https://localhost:8080/",
          "height": 34
        },
        "outputId": "3cf5d4e6-f199-4445-b8e8-f591fe7a8a79"
      },
      "cell_type": "code",
      "source": [
        "### Install CatBoost\n",
        "!pip -q install catboost"
      ],
      "execution_count": 1,
      "outputs": [
        {
          "output_type": "stream",
          "text": [
            "\u001b[K    100% |████████████████████████████████| 60.1MB 595kB/s \n",
            "\u001b[?25h"
          ],
          "name": "stdout"
        }
      ]
    },
    {
      "metadata": {
        "id": "_dmKX_oKIb2P",
        "colab_type": "code",
        "colab": {}
      },
      "cell_type": "code",
      "source": [
        "### Import packages\n",
        "import timeit\n",
        "from catboost.datasets import epsilon\n",
        "from catboost import CatBoostClassifier"
      ],
      "execution_count": 0,
      "outputs": []
    },
    {
      "metadata": {
        "id": "SUeDBjFpGy87",
        "colab_type": "text"
      },
      "cell_type": "markdown",
      "source": [
        "### **Prepare dataset.**\n",
        "\n",
        "*   **I will use the 'Epsilon' dataset from CatBoost.** "
      ]
    },
    {
      "metadata": {
        "id": "F4zEXx7dICzm",
        "colab_type": "code",
        "colab": {}
      },
      "cell_type": "code",
      "source": [
        "### Split dataset into 'train' and 'test' sets\n",
        "train, test = epsilon()\n",
        "\n",
        "X_train, y_train = train.iloc[:,1:], train[0]\n",
        "X_test, y_test = test.iloc[:,1:], test[0]"
      ],
      "execution_count": 0,
      "outputs": []
    },
    {
      "metadata": {
        "id": "nDcyPL-_aDsQ",
        "colab_type": "code",
        "outputId": "d418ba8d-b8db-412f-96d0-5eb03e6cd73d",
        "colab": {
          "base_uri": "https://localhost:8080/",
          "height": 289
        }
      },
      "cell_type": "code",
      "source": [
        "### Define 'train_on_cpu' function\n",
        "def train_on_cpu():  \n",
        "  model = CatBoostClassifier(\n",
        "    iterations=100,\n",
        "    learning_rate=0.03\n",
        "  )\n",
        "  \n",
        "  model.fit(\n",
        "      X_train, y_train,\n",
        "      eval_set=(X_test, y_test),\n",
        "      verbose=10\n",
        "  );   \n",
        "      \n",
        "cpu_time = timeit.timeit('train_on_cpu()', \n",
        "                         setup=\"from __main__ import train_on_cpu\", \n",
        "                         number=1)\n",
        "\n",
        "print('Time to fit model on CPU: {} sec'.format(int(cpu_time)))"
      ],
      "execution_count": 4,
      "outputs": [
        {
          "output_type": "stream",
          "text": [
            "0:\tlearn: 0.6878004\ttest: 0.6878645\tbest: 0.6878645 (0)\ttotal: 8.51s\tremaining: 14m 2s\n",
            "10:\tlearn: 0.6459486\ttest: 0.6467108\tbest: 0.6467108 (10)\ttotal: 1m 30s\tremaining: 12m 15s\n",
            "20:\tlearn: 0.6170315\ttest: 0.6180805\tbest: 0.6180805 (20)\ttotal: 2m 49s\tremaining: 10m 39s\n",
            "30:\tlearn: 0.5947894\ttest: 0.5960342\tbest: 0.5960342 (30)\ttotal: 4m 7s\tremaining: 9m 10s\n",
            "40:\tlearn: 0.5766997\ttest: 0.5780390\tbest: 0.5780390 (40)\ttotal: 5m 24s\tremaining: 7m 47s\n",
            "50:\tlearn: 0.5616803\ttest: 0.5631138\tbest: 0.5631138 (50)\ttotal: 6m 39s\tremaining: 6m 23s\n",
            "60:\tlearn: 0.5485252\ttest: 0.5499754\tbest: 0.5499754 (60)\ttotal: 7m 52s\tremaining: 5m 2s\n",
            "70:\tlearn: 0.5371519\ttest: 0.5385685\tbest: 0.5385685 (70)\ttotal: 9m 5s\tremaining: 3m 42s\n",
            "80:\tlearn: 0.5267357\ttest: 0.5282210\tbest: 0.5282210 (80)\ttotal: 10m 17s\tremaining: 2m 24s\n",
            "90:\tlearn: 0.5175479\ttest: 0.5190800\tbest: 0.5190800 (90)\ttotal: 11m 31s\tremaining: 1m 8s\n",
            "99:\tlearn: 0.5100183\ttest: 0.5116455\tbest: 0.5116455 (99)\ttotal: 12m 39s\tremaining: 0us\n",
            "\n",
            "bestTest = 0.5116455212\n",
            "bestIteration = 99\n",
            "\n",
            "Time to fit model on CPU: 908 sec\n"
          ],
          "name": "stdout"
        }
      ]
    },
    {
      "metadata": {
        "id": "4AxPVxjpfzcK",
        "colab_type": "code",
        "colab": {
          "base_uri": "https://localhost:8080/",
          "height": 272
        },
        "outputId": "30ca42fb-6139-4980-f4a6-437d2dd36dd2"
      },
      "cell_type": "code",
      "source": [
        "### Define 'train_on_gpu' function\n",
        "def train_on_gpu():\n",
        "  model = CatBoostClassifier(iterations =100, learning_rate = 0.03, task_type ='GPU')\n",
        "  \n",
        "  model.fit(X_train, y_train, eval_set =(X_test, y_test), verbose =10)\n",
        "  \n",
        "gpu_time = timeit.timeit('train_on_gpu()', setup =\"from __main__ import train_on_gpu\", number =1)\n",
        "\n",
        "print('Time to fit model on GPU: {} sec'.format(int(gpu_time)))\n",
        "\n",
        "print('GPU speedup over CPU: ' + '%.2f' % (cpu_time / gpu_time) + 'x') "
      ],
      "execution_count": 5,
      "outputs": [
        {
          "output_type": "stream",
          "text": [
            "0:\tlearn: 0.6877673\ttest: 0.6878639\tbest: 0.6878639 (0)\ttotal: 329ms\tremaining: 32.6s\n",
            "10:\tlearn: 0.6457423\ttest: 0.6464577\tbest: 0.6464577 (10)\ttotal: 2.54s\tremaining: 20.5s\n",
            "20:\tlearn: 0.6163274\ttest: 0.6174585\tbest: 0.6174585 (20)\ttotal: 4.62s\tremaining: 17.4s\n",
            "30:\tlearn: 0.5943048\ttest: 0.5956977\tbest: 0.5956977 (30)\ttotal: 6.6s\tremaining: 14.7s\n",
            "40:\tlearn: 0.5763314\ttest: 0.5778144\tbest: 0.5778144 (40)\ttotal: 8.57s\tremaining: 12.3s\n",
            "50:\tlearn: 0.5607703\ttest: 0.5623939\tbest: 0.5623939 (50)\ttotal: 10.6s\tremaining: 10.2s\n",
            "60:\tlearn: 0.5478194\ttest: 0.5495077\tbest: 0.5495077 (60)\ttotal: 12.5s\tremaining: 8s\n",
            "70:\tlearn: 0.5360011\ttest: 0.5377425\tbest: 0.5377425 (70)\ttotal: 14.4s\tremaining: 5.88s\n",
            "80:\tlearn: 0.5258042\ttest: 0.5275755\tbest: 0.5275755 (80)\ttotal: 16.3s\tremaining: 3.83s\n",
            "90:\tlearn: 0.5165443\ttest: 0.5183855\tbest: 0.5183855 (90)\ttotal: 18.3s\tremaining: 1.81s\n",
            "99:\tlearn: 0.5089660\ttest: 0.5108718\tbest: 0.5108718 (99)\ttotal: 20s\tremaining: 0us\n",
            "bestTest = 0.5108718359\n",
            "bestIteration = 99\n",
            "Time to fit model on GPU: 151 sec\n",
            "GPU speedup over CPU : 6.00x\n"
          ],
          "name": "stdout"
        }
      ]
    }
  ]
}